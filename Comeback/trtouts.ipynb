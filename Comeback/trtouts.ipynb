{
 "cells": [
  {
   "cell_type": "code",
   "execution_count": null,
   "metadata": {},
   "outputs": [],
   "source": [
    "!pip install pandas_datareader"
   ]
  },
  {
   "cell_type": "code",
   "execution_count": 1,
   "metadata": {},
   "outputs": [],
   "source": [
    "import numpy as np\n",
    "import matplotlib.pyplot as plt\n",
    "from numpy.core.fromnumeric import shape\n",
    "from numpy.lib.type_check import real\n",
    "import pandas as pd\n",
    "import pandas_datareader as pdr\n",
    "import datetime as dt\n",
    "from sklearn import preprocessing\n",
    "from sklearn.preprocessing import MinMaxScaler\n",
    "from tensorflow.keras.layers import Dense,Dropout,LSTM\n",
    "from tensorflow.keras.models import Sequential\n",
    "from sklearn.model_selection import train_test_split\n",
    "from tensorflow import keras\n",
    "\n",
    "crypto='BTC'\n",
    "currency='USD'"
   ]
  },
  {
   "cell_type": "code",
   "execution_count": 2,
   "metadata": {},
   "outputs": [],
   "source": [
    "start=dt.datetime(2022,1,1)\n",
    "end=dt.datetime(2022,7,1)\n",
    "\n",
    "data=pdr.DataReader(f'{crypto}-{currency}','yahoo',start,end)"
   ]
  },
  {
   "cell_type": "code",
   "execution_count": 3,
   "metadata": {},
   "outputs": [
    {
     "data": {
      "text/html": [
       "<div>\n",
       "<style scoped>\n",
       "    .dataframe tbody tr th:only-of-type {\n",
       "        vertical-align: middle;\n",
       "    }\n",
       "\n",
       "    .dataframe tbody tr th {\n",
       "        vertical-align: top;\n",
       "    }\n",
       "\n",
       "    .dataframe thead th {\n",
       "        text-align: right;\n",
       "    }\n",
       "</style>\n",
       "<table border=\"1\" class=\"dataframe\">\n",
       "  <thead>\n",
       "    <tr style=\"text-align: right;\">\n",
       "      <th></th>\n",
       "      <th>High</th>\n",
       "      <th>Low</th>\n",
       "      <th>Open</th>\n",
       "      <th>Close</th>\n",
       "      <th>Volume</th>\n",
       "      <th>Adj Close</th>\n",
       "    </tr>\n",
       "  </thead>\n",
       "  <tbody>\n",
       "    <tr>\n",
       "      <th>count</th>\n",
       "      <td>183.000000</td>\n",
       "      <td>183.000000</td>\n",
       "      <td>183.000000</td>\n",
       "      <td>183.000000</td>\n",
       "      <td>1.830000e+02</td>\n",
       "      <td>183.000000</td>\n",
       "    </tr>\n",
       "    <tr>\n",
       "      <th>mean</th>\n",
       "      <td>37566.494856</td>\n",
       "      <td>35863.056619</td>\n",
       "      <td>36829.955761</td>\n",
       "      <td>36682.233713</td>\n",
       "      <td>2.915230e+10</td>\n",
       "      <td>36682.233713</td>\n",
       "    </tr>\n",
       "    <tr>\n",
       "      <th>std</th>\n",
       "      <td>7596.622986</td>\n",
       "      <td>7534.084009</td>\n",
       "      <td>7506.313321</td>\n",
       "      <td>7586.545099</td>\n",
       "      <td>1.066214e+10</td>\n",
       "      <td>7586.545099</td>\n",
       "    </tr>\n",
       "    <tr>\n",
       "      <th>min</th>\n",
       "      <td>19371.748047</td>\n",
       "      <td>17708.623047</td>\n",
       "      <td>19010.902344</td>\n",
       "      <td>19017.642578</td>\n",
       "      <td>1.373656e+10</td>\n",
       "      <td>19017.642578</td>\n",
       "    </tr>\n",
       "    <tr>\n",
       "      <th>25%</th>\n",
       "      <td>31306.766602</td>\n",
       "      <td>29549.021484</td>\n",
       "      <td>30367.798828</td>\n",
       "      <td>30319.028320</td>\n",
       "      <td>2.192934e+10</td>\n",
       "      <td>30319.028320</td>\n",
       "    </tr>\n",
       "    <tr>\n",
       "      <th>50%</th>\n",
       "      <td>39845.925781</td>\n",
       "      <td>38113.664062</td>\n",
       "      <td>39148.449219</td>\n",
       "      <td>39105.148438</td>\n",
       "      <td>2.781953e+10</td>\n",
       "      <td>39105.148438</td>\n",
       "    </tr>\n",
       "    <tr>\n",
       "      <th>75%</th>\n",
       "      <td>42943.066406</td>\n",
       "      <td>41399.984375</td>\n",
       "      <td>42266.076172</td>\n",
       "      <td>42247.509766</td>\n",
       "      <td>3.307551e+10</td>\n",
       "      <td>42247.509766</td>\n",
       "    </tr>\n",
       "    <tr>\n",
       "      <th>max</th>\n",
       "      <td>48086.835938</td>\n",
       "      <td>47100.437500</td>\n",
       "      <td>47680.925781</td>\n",
       "      <td>47686.812500</td>\n",
       "      <td>8.419661e+10</td>\n",
       "      <td>47686.812500</td>\n",
       "    </tr>\n",
       "  </tbody>\n",
       "</table>\n",
       "</div>"
      ],
      "text/plain": [
       "               High           Low          Open         Close        Volume  \\\n",
       "count    183.000000    183.000000    183.000000    183.000000  1.830000e+02   \n",
       "mean   37566.494856  35863.056619  36829.955761  36682.233713  2.915230e+10   \n",
       "std     7596.622986   7534.084009   7506.313321   7586.545099  1.066214e+10   \n",
       "min    19371.748047  17708.623047  19010.902344  19017.642578  1.373656e+10   \n",
       "25%    31306.766602  29549.021484  30367.798828  30319.028320  2.192934e+10   \n",
       "50%    39845.925781  38113.664062  39148.449219  39105.148438  2.781953e+10   \n",
       "75%    42943.066406  41399.984375  42266.076172  42247.509766  3.307551e+10   \n",
       "max    48086.835938  47100.437500  47680.925781  47686.812500  8.419661e+10   \n",
       "\n",
       "          Adj Close  \n",
       "count    183.000000  \n",
       "mean   36682.233713  \n",
       "std     7586.545099  \n",
       "min    19017.642578  \n",
       "25%    30319.028320  \n",
       "50%    39105.148438  \n",
       "75%    42247.509766  \n",
       "max    47686.812500  "
      ]
     },
     "execution_count": 3,
     "metadata": {},
     "output_type": "execute_result"
    }
   ],
   "source": [
    "data.describe()"
   ]
  },
  {
   "cell_type": "code",
   "execution_count": 4,
   "metadata": {},
   "outputs": [],
   "source": [
    "scaler=MinMaxScaler(feature_range=(0,1))\n",
    "scaled_data=scaler.fit_transform(data['Close'].values.reshape(-1,1))\n",
    "\n",
    "prediction_days=30\n",
    "future_day=0"
   ]
  },
  {
   "cell_type": "code",
   "execution_count": 5,
   "metadata": {},
   "outputs": [
    {
     "data": {
      "text/html": [
       "<div>\n",
       "<style scoped>\n",
       "    .dataframe tbody tr th:only-of-type {\n",
       "        vertical-align: middle;\n",
       "    }\n",
       "\n",
       "    .dataframe tbody tr th {\n",
       "        vertical-align: top;\n",
       "    }\n",
       "\n",
       "    .dataframe thead th {\n",
       "        text-align: right;\n",
       "    }\n",
       "</style>\n",
       "<table border=\"1\" class=\"dataframe\">\n",
       "  <thead>\n",
       "    <tr style=\"text-align: right;\">\n",
       "      <th></th>\n",
       "      <th>High</th>\n",
       "      <th>Low</th>\n",
       "      <th>Open</th>\n",
       "      <th>Close</th>\n",
       "      <th>Volume</th>\n",
       "      <th>Adj Close</th>\n",
       "    </tr>\n",
       "    <tr>\n",
       "      <th>Date</th>\n",
       "      <th></th>\n",
       "      <th></th>\n",
       "      <th></th>\n",
       "      <th></th>\n",
       "      <th></th>\n",
       "      <th></th>\n",
       "    </tr>\n",
       "  </thead>\n",
       "  <tbody>\n",
       "    <tr>\n",
       "      <th>2022-01-01</th>\n",
       "      <td>47827.312500</td>\n",
       "      <td>46288.484375</td>\n",
       "      <td>46311.746094</td>\n",
       "      <td>47686.812500</td>\n",
       "      <td>24582667004</td>\n",
       "      <td>47686.812500</td>\n",
       "    </tr>\n",
       "    <tr>\n",
       "      <th>2022-01-02</th>\n",
       "      <td>47881.406250</td>\n",
       "      <td>46856.937500</td>\n",
       "      <td>47680.925781</td>\n",
       "      <td>47345.218750</td>\n",
       "      <td>27951569547</td>\n",
       "      <td>47345.218750</td>\n",
       "    </tr>\n",
       "    <tr>\n",
       "      <th>2022-01-03</th>\n",
       "      <td>47510.726562</td>\n",
       "      <td>45835.964844</td>\n",
       "      <td>47343.542969</td>\n",
       "      <td>46458.117188</td>\n",
       "      <td>33071628362</td>\n",
       "      <td>46458.117188</td>\n",
       "    </tr>\n",
       "    <tr>\n",
       "      <th>2022-01-04</th>\n",
       "      <td>47406.546875</td>\n",
       "      <td>45752.464844</td>\n",
       "      <td>46458.851562</td>\n",
       "      <td>45897.574219</td>\n",
       "      <td>42494677905</td>\n",
       "      <td>45897.574219</td>\n",
       "    </tr>\n",
       "    <tr>\n",
       "      <th>2022-01-05</th>\n",
       "      <td>46929.046875</td>\n",
       "      <td>42798.222656</td>\n",
       "      <td>45899.359375</td>\n",
       "      <td>43569.003906</td>\n",
       "      <td>36851084859</td>\n",
       "      <td>43569.003906</td>\n",
       "    </tr>\n",
       "    <tr>\n",
       "      <th>...</th>\n",
       "      <td>...</td>\n",
       "      <td>...</td>\n",
       "      <td>...</td>\n",
       "      <td>...</td>\n",
       "      <td>...</td>\n",
       "      <td>...</td>\n",
       "    </tr>\n",
       "    <tr>\n",
       "      <th>2022-06-28</th>\n",
       "      <td>21164.423828</td>\n",
       "      <td>20228.812500</td>\n",
       "      <td>20731.544922</td>\n",
       "      <td>20280.634766</td>\n",
       "      <td>21381535161</td>\n",
       "      <td>20280.634766</td>\n",
       "    </tr>\n",
       "    <tr>\n",
       "      <th>2022-06-29</th>\n",
       "      <td>20364.156250</td>\n",
       "      <td>19937.791016</td>\n",
       "      <td>20281.169922</td>\n",
       "      <td>20104.023438</td>\n",
       "      <td>23552740328</td>\n",
       "      <td>20104.023438</td>\n",
       "    </tr>\n",
       "    <tr>\n",
       "      <th>2022-06-30</th>\n",
       "      <td>20141.160156</td>\n",
       "      <td>18729.656250</td>\n",
       "      <td>20108.312500</td>\n",
       "      <td>19784.726562</td>\n",
       "      <td>26267239923</td>\n",
       "      <td>19784.726562</td>\n",
       "    </tr>\n",
       "    <tr>\n",
       "      <th>2022-07-01</th>\n",
       "      <td>20632.671875</td>\n",
       "      <td>19073.708984</td>\n",
       "      <td>19820.470703</td>\n",
       "      <td>19269.367188</td>\n",
       "      <td>30767551159</td>\n",
       "      <td>19269.367188</td>\n",
       "    </tr>\n",
       "    <tr>\n",
       "      <th>2022-07-02</th>\n",
       "      <td>19371.748047</td>\n",
       "      <td>19027.082031</td>\n",
       "      <td>19274.835938</td>\n",
       "      <td>19242.255859</td>\n",
       "      <td>18100418740</td>\n",
       "      <td>19242.255859</td>\n",
       "    </tr>\n",
       "  </tbody>\n",
       "</table>\n",
       "<p>183 rows × 6 columns</p>\n",
       "</div>"
      ],
      "text/plain": [
       "                    High           Low          Open         Close  \\\n",
       "Date                                                                 \n",
       "2022-01-01  47827.312500  46288.484375  46311.746094  47686.812500   \n",
       "2022-01-02  47881.406250  46856.937500  47680.925781  47345.218750   \n",
       "2022-01-03  47510.726562  45835.964844  47343.542969  46458.117188   \n",
       "2022-01-04  47406.546875  45752.464844  46458.851562  45897.574219   \n",
       "2022-01-05  46929.046875  42798.222656  45899.359375  43569.003906   \n",
       "...                  ...           ...           ...           ...   \n",
       "2022-06-28  21164.423828  20228.812500  20731.544922  20280.634766   \n",
       "2022-06-29  20364.156250  19937.791016  20281.169922  20104.023438   \n",
       "2022-06-30  20141.160156  18729.656250  20108.312500  19784.726562   \n",
       "2022-07-01  20632.671875  19073.708984  19820.470703  19269.367188   \n",
       "2022-07-02  19371.748047  19027.082031  19274.835938  19242.255859   \n",
       "\n",
       "                 Volume     Adj Close  \n",
       "Date                                   \n",
       "2022-01-01  24582667004  47686.812500  \n",
       "2022-01-02  27951569547  47345.218750  \n",
       "2022-01-03  33071628362  46458.117188  \n",
       "2022-01-04  42494677905  45897.574219  \n",
       "2022-01-05  36851084859  43569.003906  \n",
       "...                 ...           ...  \n",
       "2022-06-28  21381535161  20280.634766  \n",
       "2022-06-29  23552740328  20104.023438  \n",
       "2022-06-30  26267239923  19784.726562  \n",
       "2022-07-01  30767551159  19269.367188  \n",
       "2022-07-02  18100418740  19242.255859  \n",
       "\n",
       "[183 rows x 6 columns]"
      ]
     },
     "execution_count": 5,
     "metadata": {},
     "output_type": "execute_result"
    }
   ],
   "source": [
    "data"
   ]
  },
  {
   "cell_type": "code",
   "execution_count": 6,
   "metadata": {},
   "outputs": [],
   "source": [
    "X=np.array(data.drop('Close',axis=1))\n",
    "\n",
    "Y=np.array(data['Close'])"
   ]
  },
  {
   "cell_type": "code",
   "execution_count": 7,
   "metadata": {},
   "outputs": [],
   "source": [
    "x_train, x_test, y_train, y_test = train_test_split(X, Y, test_size=0.33, random_state=42)\n"
   ]
  },
  {
   "cell_type": "code",
   "execution_count": 9,
   "metadata": {},
   "outputs": [],
   "source": [
    "x_train=np.reshape(x_train,(x_train.shape[0],x_train.shape[1],1))\n"
   ]
  },
  {
   "cell_type": "code",
   "execution_count": 15,
   "metadata": {},
   "outputs": [
    {
     "data": {
      "text/plain": [
       "(122, 5, 1)"
      ]
     },
     "execution_count": 15,
     "metadata": {},
     "output_type": "execute_result"
    }
   ],
   "source": [
    "x_train.shape"
   ]
  },
  {
   "cell_type": "code",
   "execution_count": 17,
   "metadata": {},
   "outputs": [
    {
     "data": {
      "text/plain": [
       "(122,)"
      ]
     },
     "execution_count": 17,
     "metadata": {},
     "output_type": "execute_result"
    }
   ],
   "source": [
    "y_train.shape"
   ]
  },
  {
   "cell_type": "code",
   "execution_count": 12,
   "metadata": {},
   "outputs": [],
   "source": [
    "model=Sequential()\n",
    "model.add(LSTM(units=50,return_sequences=True,input_shape=(x_train.shape[1],1)))\n",
    "model.add(Dropout(0.2))\n",
    "model.add(LSTM(units=50,return_sequences=True))\n",
    "model.add(Dropout(0.2))\n",
    "model.add(LSTM(units=50))\n",
    "model.add(Dense(units=1))\n",
    "model.compile(loss = 'mean_squared_error',\n",
    "optimizer = 'adam',\n",
    "metrics = ['accuracy'])\n",
    "callback = keras.callbacks.EarlyStopping(monitor='accuracy',\n",
    "                                            patience=10,\n",
    "                                            restore_best_weights=True)"
   ]
  },
  {
   "cell_type": "code",
   "execution_count": null,
   "metadata": {},
   "outputs": [],
   "source": [
    "model.fit(x_train,y_train,epochs=30,batch_size=8, callbacks=callback)"
   ]
  },
  {
   "cell_type": "code",
   "execution_count": null,
   "metadata": {},
   "outputs": [],
   "source": [
    "loss, accuracy = model.evaluate((x_val,y_val))\n",
    "print(\"Loss: \", loss)\n",
    "print(\"Accuracy: \", accuracy)"
   ]
  },
  {
   "cell_type": "code",
   "execution_count": null,
   "metadata": {},
   "outputs": [],
   "source": [
    "test_start=dt.datetime(2020,1,1)\n",
    "test_end=dt.datetime.now()\n",
    "\n",
    "test_data=pdr.DataReader(f'{crypto}-{currency}','yahoo',test_start,test_end)\n",
    "\n",
    "actual_prices=test_data['Close'].values\n",
    "\n",
    "total_dataset=pd.concat((data['Close'],test_data['Close']),axis=0)\n",
    "\n",
    "model_inputs=total_dataset[len(total_dataset)-len(test_data)-prediction_days:].values\n",
    "model_inputs=model_inputs.reshape(-1,1)\n",
    "\n",
    "model_inputs=scaler.fit_transform(model_inputs)\n",
    "\n",
    "x_test=[]\n",
    "\n",
    "for x in range(prediction_days,len(model_inputs)):\n",
    "    x_test.append(model_inputs[x-prediction_days:x,0])\n",
    "\n",
    "x_test=np.array(x_test)\n",
    "x_test=np.reshape(x_test,(x_test.shape[0],x_test.shape[1],1))"
   ]
  }
 ],
 "metadata": {
  "kernelspec": {
   "display_name": "Python 3.10.5 64-bit (system)",
   "language": "python",
   "name": "python3"
  },
  "language_info": {
   "codemirror_mode": {
    "name": "ipython",
    "version": 3
   },
   "file_extension": ".py",
   "mimetype": "text/x-python",
   "name": "python",
   "nbconvert_exporter": "python",
   "pygments_lexer": "ipython3",
   "version": "3.10.5"
  },
  "orig_nbformat": 4,
  "vscode": {
   "interpreter": {
    "hash": "a7d98f6a89a2cc2c3b451a8bb432008958aa7c83c5ffc793c3e15255d944d91d"
   }
  }
 },
 "nbformat": 4,
 "nbformat_minor": 2
}
